{
  "nbformat": 4,
  "nbformat_minor": 0,
  "metadata": {
    "colab": {
      "name": "CMPE_256_PROJECT.ipynb",
      "provenance": [],
      "collapsed_sections": []
    },
    "kernelspec": {
      "name": "python3",
      "display_name": "Python 3"
    }
  },
  "cells": [
    {
      "cell_type": "markdown",
      "metadata": {
        "id": "6NnjdiTClzXT",
        "colab_type": "text"
      },
      "source": [
        "# Importing Libraries"
      ]
    },
    {
      "cell_type": "code",
      "metadata": {
        "id": "A8E_ASfbsVAI",
        "colab_type": "code",
        "colab": {}
      },
      "source": [
        "import csv\n",
        "import numpy as np\n",
        "import pandas as pd\n",
        "import plotly as py\n",
        "import plotly.graph_objs as go\n",
        "import requests \n",
        "import urllib3\n",
        "from bs4 import BeautifulSoup\n",
        "from datetime import datetime"
      ],
      "execution_count": 0,
      "outputs": []
    },
    {
      "cell_type": "markdown",
      "metadata": {
        "id": "a1ia3WBwscYY",
        "colab_type": "text"
      },
      "source": [
        "# The Population affected by COVID-19"
      ]
    },
    {
      "cell_type": "code",
      "metadata": {
        "id": "MZF18Uzpsf4P",
        "colab_type": "code",
        "colab": {
          "base_uri": "https://localhost:8080/",
          "height": 35
        },
        "outputId": "3874869e-f2e2-49a6-e1c9-3d34b3f1ea48"
      },
      "source": [
        "from plotly.offline import download_plotlyjs,init_notebook_mode, plot, iplot\n",
        "init_notebook_mode(connected=True)\n",
        "\n",
        "href = \"https://api.covid19api.com/summary\"\n",
        "r = requests.get(href)\n",
        "json_data = r.json()\n",
        "\n",
        "fname = \"output_country.csv\"\n",
        "with open(fname,\"w\") as file:\n",
        "    csv_file = csv.writer(file)\n",
        "    csv_file.writerow([\"Country\",\"CountryCode\",\"NewConfirmed\",\"TotalConfirmed\",\"NewDeaths\",\"TotalDeaths\",\"NewRecovered\",\"TotalRecovered\",\"Date\"])\n",
        "    for item in json_data['Countries']:\n",
        "        csv_file.writerow([item['Country'],item['CountryCode'],                           \n",
        "                           item['NewConfirmed'],item['TotalConfirmed'],\n",
        "                           item['NewDeaths'],item['TotalDeaths'],item['NewRecovered'],\n",
        "                           item['TotalRecovered'],item['Date']])\n",
        "df_country= pd.read_csv(\"output_country.csv\",encoding='ISO-8859-1')\n",
        "\n",
        "data = dict(type = 'choropleth',\n",
        "           locations = df_country['Country'],\n",
        "            locationmode = 'country names',\n",
        "            z = df_country['TotalDeaths'],\n",
        "            text = df_country['Country'],\n",
        "            colorscale= 'agsunset',\n",
        "            reversescale = False,\n",
        "            marker = dict(line = dict(color='white',width=1)),\n",
        "            colorbar = {'title':'members'}\n",
        "           )\n",
        "\n",
        "layout = dict(\n",
        "             title = 'COVID-19 Confirmed Deaths',\n",
        "             geo = dict(showframe = False,projection = {'type':\"miller\"})\n",
        "             )\n",
        "\n",
        "choromap = go.Figure(data=[data],layout=layout)\n",
        "\n",
        "plot(choromap,validate=False,filename='TotalDeaths.html')"
      ],
      "execution_count": 5,
      "outputs": [
        {
          "output_type": "display_data",
          "data": {
            "text/html": [
              "        <script type=\"text/javascript\">\n",
              "        window.PlotlyConfig = {MathJaxConfig: 'local'};\n",
              "        if (window.MathJax) {MathJax.Hub.Config({SVG: {font: \"STIX-Web\"}});}\n",
              "        if (typeof require !== 'undefined') {\n",
              "        require.undef(\"plotly\");\n",
              "        requirejs.config({\n",
              "            paths: {\n",
              "                'plotly': ['https://cdn.plot.ly/plotly-latest.min']\n",
              "            }\n",
              "        });\n",
              "        require(['plotly'], function(Plotly) {\n",
              "            window._Plotly = Plotly;\n",
              "        });\n",
              "        }\n",
              "        </script>\n",
              "        "
            ]
          },
          "metadata": {
            "tags": []
          }
        },
        {
          "output_type": "execute_result",
          "data": {
            "text/plain": [
              "'TotalDeaths.html'"
            ]
          },
          "metadata": {
            "tags": []
          },
          "execution_count": 5
        }
      ]
    },
    {
      "cell_type": "code",
      "metadata": {
        "id": "6afx_MOlvHjN",
        "colab_type": "code",
        "colab": {
          "base_uri": "https://localhost:8080/",
          "height": 35
        },
        "outputId": "33fb359a-f1e1-4e38-d7d0-28ac74a3e8d1"
      },
      "source": [
        "import plotly.offline as py\n",
        "py.init_notebook_mode(connected=True)\n",
        "\n",
        "data = [ dict(\n",
        "    type = 'choropleth',\n",
        "    locations = df_country['Country'],\n",
        "    z = df_country['TotalConfirmed'],\n",
        "    locationmode = 'country names',\n",
        "    text = df_country['Country'],\n",
        "    marker = dict(\n",
        "        line = dict(color = 'rgb(0,0,0)', width = 1)),\n",
        "        colorbar = dict(autotick = True, tickprefix = '', \n",
        "        title = 'Count')\n",
        "        )\n",
        "   ]\n",
        "    \n",
        "# Building the visual\n",
        "\n",
        "layout = dict(\n",
        "title = 'COVID-19 Confirmed Cases',\n",
        "geo = dict(\n",
        "    showframe = False,\n",
        "    showocean = True,\n",
        "    oceancolor = 'rgb(0,255,255)',\n",
        "    projection = dict(\n",
        "    type = 'orthographic',\n",
        "        rotation = dict(\n",
        "                lon = 60,\n",
        "                lat = 10),\n",
        "    ),\n",
        "    lonaxis =  dict(\n",
        "            showgrid = True,\n",
        "            gridcolor = 'rgb(102, 102, 102)'\n",
        "        ),\n",
        "    lataxis = dict(\n",
        "            showgrid = True,\n",
        "            gridcolor = 'rgb(102, 102, 102)'\n",
        "            )\n",
        "        ),\n",
        "    )\n",
        "\n",
        "fig = dict(data=data, layout=layout)\n",
        "py.plot(fig, validate=False, filename='TotalConfirmed.html')"
      ],
      "execution_count": 7,
      "outputs": [
        {
          "output_type": "display_data",
          "data": {
            "text/html": [
              "        <script type=\"text/javascript\">\n",
              "        window.PlotlyConfig = {MathJaxConfig: 'local'};\n",
              "        if (window.MathJax) {MathJax.Hub.Config({SVG: {font: \"STIX-Web\"}});}\n",
              "        if (typeof require !== 'undefined') {\n",
              "        require.undef(\"plotly\");\n",
              "        requirejs.config({\n",
              "            paths: {\n",
              "                'plotly': ['https://cdn.plot.ly/plotly-latest.min']\n",
              "            }\n",
              "        });\n",
              "        require(['plotly'], function(Plotly) {\n",
              "            window._Plotly = Plotly;\n",
              "        });\n",
              "        }\n",
              "        </script>\n",
              "        "
            ]
          },
          "metadata": {
            "tags": []
          }
        },
        {
          "output_type": "execute_result",
          "data": {
            "text/plain": [
              "'TotalConfirmed.html'"
            ]
          },
          "metadata": {
            "tags": []
          },
          "execution_count": 7
        }
      ]
    }
  ]
}